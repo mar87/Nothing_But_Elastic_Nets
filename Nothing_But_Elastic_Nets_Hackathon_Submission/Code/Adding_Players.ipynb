{
 "cells": [
  {
   "cell_type": "code",
   "execution_count": 1,
   "metadata": {
    "collapsed": true
   },
   "outputs": [],
   "source": [
    "#loading in the data\n",
    "import pandas as pd; import numpy as np"
   ]
  },
  {
   "cell_type": "code",
   "execution_count": 2,
   "metadata": {
    "collapsed": true
   },
   "outputs": [],
   "source": [
    "play_by_play = pd.read_csv(\"/Users/meganrobertson/Desktop/Basketball_Data/Play_by_Play_New.csv\")\n",
    "play_by_play = play_by_play.loc[play_by_play['Season'] == 2016]"
   ]
  },
  {
   "cell_type": "code",
   "execution_count": 3,
   "metadata": {
    "collapsed": true,
    "scrolled": true
   },
   "outputs": [],
   "source": [
    "subs = play_by_play.loc[(play_by_play['General_Description'] == 'Substitution') | (play_by_play['Play_Clock_Time'] == 720)]"
   ]
  },
  {
   "cell_type": "code",
   "execution_count": 4,
   "metadata": {
    "collapsed": true
   },
   "outputs": [],
   "source": [
    "#adding start/end time to the sub data\n",
    "subs = subs.sort_values(['Game_id', 'Period', 'Play_Clock_Time'], ascending =[True, True, False]) #sorting \n",
    "subs = subs.reset_index()\n",
    "subs['start'] = subs['Play_Clock_Time']\n",
    "subs['end'] = 0\n",
    "subs = subs.reset_index()\n",
    "\n",
    "for i in range(0, subs.shape[0]-1):\n",
    "    if subs.iloc[i]['Game_id'] == subs.iloc[i+1]['Game_id']:\n",
    "        subs.loc[i, 'end'] = subs.iloc[i+1]['Play_Clock_Time'] - 1\n",
    "    else:\n",
    "        pass"
   ]
  },
  {
   "cell_type": "code",
   "execution_count": 5,
   "metadata": {
    "collapsed": true
   },
   "outputs": [],
   "source": [
    "possess = pd.read_table('/Users/meganrobertson/Desktop/Basketball_Data/2016-17_nba_possession_log.txt')\n",
    "possess['GAME_CLOCK_START'] = (possess['GAME_CLOCK_START']/10).astype(int)\n",
    "possess['GAME_CLOCK_END'] = (possess['GAME_CLOCK_END']/10).astype(int)"
   ]
  },
  {
   "cell_type": "code",
   "execution_count": 6,
   "metadata": {
    "collapsed": true
   },
   "outputs": [],
   "source": [
    "possess['Player1'] = 'NA'\n",
    "possess['Player2'] = 'NA'\n",
    "possess['Player3'] = 'NA'\n",
    "possess['Player4'] = 'NA'\n",
    "possess['Player5'] = 'NA'\n",
    "possess['Player6'] = 'NA'\n",
    "possess['Player7'] = 'NA'\n",
    "possess['Player8'] = 'NA'\n",
    "possess['Player9'] = 'NA'\n",
    "possess['Player10'] = 'NA'"
   ]
  },
  {
   "cell_type": "code",
   "execution_count": null,
   "metadata": {},
   "outputs": [
    {
     "name": "stdout",
     "output_type": "stream",
     "text": [
      "0\n",
      "1000\n",
      "2000\n",
      "3000\n",
      "4000\n",
      "5000\n",
      "6000\n",
      "7000\n",
      "8000\n",
      "9000\n",
      "10000\n",
      "11000\n",
      "12000\n",
      "13000\n",
      "14000\n",
      "15000\n",
      "16000\n",
      "17000\n",
      "18000\n",
      "19000\n",
      "20000\n",
      "21000\n",
      "22000\n",
      "23000\n",
      "24000\n",
      "25000\n",
      "26000\n",
      "27000\n",
      "28000\n",
      "29000\n",
      "30000\n",
      "31000\n",
      "32000\n",
      "33000\n",
      "34000\n",
      "35000\n",
      "36000\n",
      "37000\n",
      "38000\n",
      "39000\n",
      "40000\n",
      "41000\n",
      "42000\n",
      "43000\n",
      "44000\n",
      "45000\n",
      "46000\n",
      "47000\n",
      "48000\n",
      "49000\n",
      "50000\n",
      "51000\n",
      "52000\n",
      "53000\n",
      "54000\n",
      "55000\n"
     ]
    }
   ],
   "source": [
    "for i in range(0, possess.shape[0]): \n",
    "    players = subs.loc[(subs['Game_id'] == possess.iloc[i]['GAME_ID']) & (subs['Period'] == possess.iloc[i]['PERIOD']) & (subs['start'] > possess.iloc[i]['GAME_CLOCK_START'] + 4) & (subs['end'] < possess.iloc[i]['GAME_CLOCK_START']) - 4, ['Player1', 'Player2', 'Player3', 'Player4', 'Player5', 'Player6', 'Player7', 'Player8', 'Player9', 'Player10']]\n",
    "    if (i % 1000) == 0:\n",
    "        print(i)\n",
    "    try:\n",
    "        possess.loc[i, ['Player1', 'Player2', 'Player3', 'Player4', 'Player5', 'Player6', 'Player7', 'Player8', 'Player9', 'Player10']] = players.iloc[0]\n",
    "    except:\n",
    "        pass"
   ]
  },
  {
   "cell_type": "code",
   "execution_count": null,
   "metadata": {
    "collapsed": true
   },
   "outputs": [],
   "source": []
  }
 ],
 "metadata": {
  "kernelspec": {
   "display_name": "Python 3",
   "language": "python",
   "name": "python3"
  },
  "language_info": {
   "codemirror_mode": {
    "name": "ipython",
    "version": 3
   },
   "file_extension": ".py",
   "mimetype": "text/x-python",
   "name": "python",
   "nbconvert_exporter": "python",
   "pygments_lexer": "ipython3",
   "version": "3.6.1"
  }
 },
 "nbformat": 4,
 "nbformat_minor": 2
}
